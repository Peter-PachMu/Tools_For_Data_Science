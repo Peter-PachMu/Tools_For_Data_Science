{
  "nbformat": 4,
  "nbformat_minor": 0,
  "metadata": {
    "colab": {
      "provenance": []
    },
    "kernelspec": {
      "name": "python3",
      "display_name": "Python 3"
    },
    "language_info": {
      "name": "python"
    }
  },
  "cells": [
    {
      "cell_type": "markdown",
      "source": [
        "# Data Science Tools and Ecosystem"
      ],
      "metadata": {
        "id": "fJ8BZK1dGj4g"
      }
    },
    {
      "cell_type": "markdown",
      "source": [
        "In this notbook, Data Science Tools and Ecosystem are summarized"
      ],
      "metadata": {
        "id": "GfA70JTqHRZM"
      }
    },
    {
      "cell_type": "markdown",
      "source": [
        "__Objectives:__\n",
        "* List popular languages for Data Science.\n",
        "* Libraries, APIs, Datasets and Models\n",
        "* Jupyter Notebooks\n",
        "* GitHub\n",
        "\n",
        "\n"
      ],
      "metadata": {
        "id": "N80nzVUWXZP5"
      }
    },
    {
      "cell_type": "markdown",
      "source": [
        "Some of the popular languages that Data Scientists use are:\n",
        "\n",
        "1. Python\n",
        "2. R\n",
        "3. Julia"
      ],
      "metadata": {
        "id": "VyHnLAVqH0Lk"
      }
    },
    {
      "cell_type": "markdown",
      "source": [
        "Some of the commonly used libraries used by Data Scientists include:\n",
        "\n",
        "1. Pandas\n",
        "2. NumPy\n",
        "3. Caret"
      ],
      "metadata": {
        "id": "s76f8KWrSTTS"
      }
    },
    {
      "cell_type": "markdown",
      "source": [
        "| Data Science Tools |\n",
        "|- |\n",
        "| Anaconda |\n",
        "| Spark |\n",
        "| Scikit-learn |\n",
        "\n"
      ],
      "metadata": {
        "id": "Hl_m8AFTTlEY"
      }
    },
    {
      "cell_type": "markdown",
      "source": [
        "### Below are a few examples of evaluating arithmetic expressions in Python\n",
        "* 1 + 2\n",
        "* 3 - 2\n",
        "* 4 * 5\n",
        "* 6 / 2"
      ],
      "metadata": {
        "id": "yhkQJBJ6UiIi"
      }
    },
    {
      "cell_type": "code",
      "source": [
        "#This a simple arithmetic expression to multiply then add integers\n",
        "\n",
        "(3*4)+5"
      ],
      "metadata": {
        "colab": {
          "base_uri": "https://localhost:8080/"
        },
        "id": "KkppfmlPVyw1",
        "outputId": "236873b7-e32c-47ba-870e-683db5198058"
      },
      "execution_count": 2,
      "outputs": [
        {
          "output_type": "execute_result",
          "data": {
            "text/plain": [
              "17"
            ]
          },
          "metadata": {},
          "execution_count": 2
        }
      ]
    },
    {
      "cell_type": "code",
      "source": [
        "# This will convert 200 minutes to hours by diving by 60\n",
        "minutes = 200\n",
        "hours = minutes / 60\n",
        "hours"
      ],
      "metadata": {
        "colab": {
          "base_uri": "https://localhost:8080/"
        },
        "id": "7D7G20nJWble",
        "outputId": "fc473f70-f9ec-4d45-8835-a2af018fac5e"
      },
      "execution_count": 6,
      "outputs": [
        {
          "output_type": "execute_result",
          "data": {
            "text/plain": [
              "3.3333333333333335"
            ]
          },
          "metadata": {},
          "execution_count": 6
        }
      ]
    },
    {
      "cell_type": "markdown",
      "source": [
        "## Author\n",
        "Peter Smith Pacherres Muñoz"
      ],
      "metadata": {
        "id": "hU4YMiuuY9ht"
      }
    }
  ]
}